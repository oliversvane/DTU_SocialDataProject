{
 "cells": [
  {
   "cell_type": "code",
   "execution_count": 1,
   "metadata": {},
   "outputs": [],
   "source": [
    "import pandas as pd\n",
    "import folium\n",
    "import numpy as np\n",
    "from plots.Folium_heat import *\n",
    "from plots.Folium_heat_time import *\n",
    "import webbrowser"
   ]
  },
  {
   "cell_type": "code",
   "execution_count": 2,
   "metadata": {},
   "outputs": [
    {
     "data": {
      "text/html": [
       "<div>\n",
       "<style scoped>\n",
       "    .dataframe tbody tr th:only-of-type {\n",
       "        vertical-align: middle;\n",
       "    }\n",
       "\n",
       "    .dataframe tbody tr th {\n",
       "        vertical-align: top;\n",
       "    }\n",
       "\n",
       "    .dataframe thead th {\n",
       "        text-align: right;\n",
       "    }\n",
       "</style>\n",
       "<table border=\"1\" class=\"dataframe\">\n",
       "  <thead>\n",
       "    <tr style=\"text-align: right;\">\n",
       "      <th></th>\n",
       "      <th>index</th>\n",
       "      <th>Unnamed: 0</th>\n",
       "      <th>Unnamed: 0.1</th>\n",
       "      <th>id</th>\n",
       "      <th>geom</th>\n",
       "      <th>addressRepresentation</th>\n",
       "      <th>beginLifeSpanVersion</th>\n",
       "      <th>buildingNature</th>\n",
       "      <th>conditionOfConstruction</th>\n",
       "      <th>connectionToGas</th>\n",
       "      <th>...</th>\n",
       "      <th>Region</th>\n",
       "      <th>Gennemsnitsindkomst</th>\n",
       "      <th>Kvadratmeterpris</th>\n",
       "      <th>Antal til salg pr. indbygger</th>\n",
       "      <th>Gennemsnitslig husleje</th>\n",
       "      <th>Kommuneskat</th>\n",
       "      <th>Grundskyld</th>\n",
       "      <th>Bruttoledige</th>\n",
       "      <th>Gæld</th>\n",
       "      <th>Pensionsopsparing</th>\n",
       "    </tr>\n",
       "  </thead>\n",
       "  <tbody>\n",
       "    <tr>\n",
       "      <th>0</th>\n",
       "      <td>0</td>\n",
       "      <td>0</td>\n",
       "      <td>1878</td>\n",
       "      <td>1881</td>\n",
       "      <td>GP</td>\n",
       "      <td>Elledamsvej 5, 2840 Holte</td>\n",
       "      <td>2015-01-05T16:29:11.950</td>\n",
       "      <td>other</td>\n",
       "      <td>functional</td>\n",
       "      <td>other:unpopulated</td>\n",
       "      <td>...</td>\n",
       "      <td>Hovedstaden</td>\n",
       "      <td>553901</td>\n",
       "      <td>37466</td>\n",
       "      <td>0.0107</td>\n",
       "      <td>936</td>\n",
       "      <td>0.3521</td>\n",
       "      <td>22.930‰</td>\n",
       "      <td>0.0817</td>\n",
       "      <td>1806779</td>\n",
       "      <td>1772259</td>\n",
       "    </tr>\n",
       "    <tr>\n",
       "      <th>1</th>\n",
       "      <td>1</td>\n",
       "      <td>1</td>\n",
       "      <td>1878</td>\n",
       "      <td>1881</td>\n",
       "      <td>GP</td>\n",
       "      <td>Elledamsvej 5, 2840 Holte</td>\n",
       "      <td>2015-01-05T16:29:11.950</td>\n",
       "      <td>other</td>\n",
       "      <td>functional</td>\n",
       "      <td>other:unpopulated</td>\n",
       "      <td>...</td>\n",
       "      <td>Hovedstaden</td>\n",
       "      <td>553901</td>\n",
       "      <td>37466</td>\n",
       "      <td>0.0107</td>\n",
       "      <td>936</td>\n",
       "      <td>0.3521</td>\n",
       "      <td>22.930‰</td>\n",
       "      <td>0.0817</td>\n",
       "      <td>1806779</td>\n",
       "      <td>1772259</td>\n",
       "    </tr>\n",
       "    <tr>\n",
       "      <th>2</th>\n",
       "      <td>2</td>\n",
       "      <td>2</td>\n",
       "      <td>3028</td>\n",
       "      <td>3031</td>\n",
       "      <td>GP</td>\n",
       "      <td>Vejlesøvej 36, 2840 Holte</td>\n",
       "      <td>2015-01-05T17:04:27.490</td>\n",
       "      <td>other</td>\n",
       "      <td>functional</td>\n",
       "      <td>other:unpopulated</td>\n",
       "      <td>...</td>\n",
       "      <td>Hovedstaden</td>\n",
       "      <td>553901</td>\n",
       "      <td>37466</td>\n",
       "      <td>0.0107</td>\n",
       "      <td>936</td>\n",
       "      <td>0.3521</td>\n",
       "      <td>22.930‰</td>\n",
       "      <td>0.0817</td>\n",
       "      <td>1806779</td>\n",
       "      <td>1772259</td>\n",
       "    </tr>\n",
       "    <tr>\n",
       "      <th>3</th>\n",
       "      <td>3</td>\n",
       "      <td>3</td>\n",
       "      <td>5733</td>\n",
       "      <td>5736</td>\n",
       "      <td>GP</td>\n",
       "      <td>Parcelvej 53, 2840 Holte</td>\n",
       "      <td>2015-01-05T16:47:42.557</td>\n",
       "      <td>other</td>\n",
       "      <td>functional</td>\n",
       "      <td>other:unpopulated</td>\n",
       "      <td>...</td>\n",
       "      <td>Hovedstaden</td>\n",
       "      <td>553901</td>\n",
       "      <td>37466</td>\n",
       "      <td>0.0107</td>\n",
       "      <td>936</td>\n",
       "      <td>0.3521</td>\n",
       "      <td>22.930‰</td>\n",
       "      <td>0.0817</td>\n",
       "      <td>1806779</td>\n",
       "      <td>1772259</td>\n",
       "    </tr>\n",
       "    <tr>\n",
       "      <th>4</th>\n",
       "      <td>4</td>\n",
       "      <td>4</td>\n",
       "      <td>8093</td>\n",
       "      <td>8096</td>\n",
       "      <td>GP</td>\n",
       "      <td>Vejlemosevej 4F, 2840 Holte</td>\n",
       "      <td>2016-10-20T16:00:12.350</td>\n",
       "      <td>other</td>\n",
       "      <td>functional</td>\n",
       "      <td>other:unpopulated</td>\n",
       "      <td>...</td>\n",
       "      <td>Hovedstaden</td>\n",
       "      <td>553901</td>\n",
       "      <td>37466</td>\n",
       "      <td>0.0107</td>\n",
       "      <td>936</td>\n",
       "      <td>0.3521</td>\n",
       "      <td>22.930‰</td>\n",
       "      <td>0.0817</td>\n",
       "      <td>1806779</td>\n",
       "      <td>1772259</td>\n",
       "    </tr>\n",
       "  </tbody>\n",
       "</table>\n",
       "<p>5 rows × 99 columns</p>\n",
       "</div>"
      ],
      "text/plain": [
       "   index  Unnamed: 0  Unnamed: 0.1    id geom        addressRepresentation  \\\n",
       "0      0           0          1878  1881   GP    Elledamsvej 5, 2840 Holte   \n",
       "1      1           1          1878  1881   GP    Elledamsvej 5, 2840 Holte   \n",
       "2      2           2          3028  3031   GP    Vejlesøvej 36, 2840 Holte   \n",
       "3      3           3          5733  5736   GP     Parcelvej 53, 2840 Holte   \n",
       "4      4           4          8093  8096   GP  Vejlemosevej 4F, 2840 Holte   \n",
       "\n",
       "      beginLifeSpanVersion buildingNature conditionOfConstruction  \\\n",
       "0  2015-01-05T16:29:11.950          other              functional   \n",
       "1  2015-01-05T16:29:11.950          other              functional   \n",
       "2  2015-01-05T17:04:27.490          other              functional   \n",
       "3  2015-01-05T16:47:42.557          other              functional   \n",
       "4  2016-10-20T16:00:12.350          other              functional   \n",
       "\n",
       "     connectionToGas  ...       Region Gennemsnitsindkomst Kvadratmeterpris  \\\n",
       "0  other:unpopulated  ...  Hovedstaden              553901            37466   \n",
       "1  other:unpopulated  ...  Hovedstaden              553901            37466   \n",
       "2  other:unpopulated  ...  Hovedstaden              553901            37466   \n",
       "3  other:unpopulated  ...  Hovedstaden              553901            37466   \n",
       "4  other:unpopulated  ...  Hovedstaden              553901            37466   \n",
       "\n",
       "  Antal til salg pr. indbygger Gennemsnitslig husleje Kommuneskat Grundskyld  \\\n",
       "0                       0.0107                    936      0.3521    22.930‰   \n",
       "1                       0.0107                    936      0.3521    22.930‰   \n",
       "2                       0.0107                    936      0.3521    22.930‰   \n",
       "3                       0.0107                    936      0.3521    22.930‰   \n",
       "4                       0.0107                    936      0.3521    22.930‰   \n",
       "\n",
       "  Bruttoledige     Gæld Pensionsopsparing  \n",
       "0       0.0817  1806779           1772259  \n",
       "1       0.0817  1806779           1772259  \n",
       "2       0.0817  1806779           1772259  \n",
       "3       0.0817  1806779           1772259  \n",
       "4       0.0817  1806779           1772259  \n",
       "\n",
       "[5 rows x 99 columns]"
      ]
     },
     "execution_count": 2,
     "metadata": {},
     "output_type": "execute_result"
    }
   ],
   "source": [
    "df = pd.read_pickle(\"data/final_final_data.pkl\")\n",
    "df.head()"
   ]
  },
  {
   "cell_type": "code",
   "execution_count": null,
   "metadata": {},
   "outputs": [],
   "source": [
    "df.EnergyLabelClassification.unique()"
   ]
  },
  {
   "cell_type": "code",
   "execution_count": null,
   "metadata": {},
   "outputs": [],
   "source": [
    "labels=sorted(['D', 'A', 'E', 'C', 'F', 'G', 'B'])"
   ]
  },
  {
   "cell_type": "code",
   "execution_count": null,
   "metadata": {},
   "outputs": [],
   "source": [
    "list(df.columns)"
   ]
  },
  {
   "cell_type": "code",
   "execution_count": null,
   "metadata": {},
   "outputs": [],
   "source": []
  },
  {
   "cell_type": "markdown",
   "metadata": {},
   "source": [
    "# Heatmap plots for energy labels"
   ]
  },
  {
   "cell_type": "code",
   "execution_count": null,
   "metadata": {},
   "outputs": [],
   "source": [
    "#all\n",
    "create_folium_heatmap(df,\"Wgs84Latitude\",\"Wgs84Longitude\",3,10)"
   ]
  },
  {
   "cell_type": "code",
   "execution_count": null,
   "metadata": {},
   "outputs": [],
   "source": [
    "create_folium_heatmap(df[df.EnergyLabelClassification == \"A\"],\"Wgs84Latitude\",\"Wgs84Longitude\",3,5)"
   ]
  },
  {
   "cell_type": "code",
   "execution_count": null,
   "metadata": {},
   "outputs": [],
   "source": [
    "create_folium_heatmap(df[df.EnergyLabelClassification == \"B\"],\"Wgs84Latitude\",\"Wgs84Longitude\",3,5)"
   ]
  },
  {
   "cell_type": "code",
   "execution_count": null,
   "metadata": {},
   "outputs": [],
   "source": [
    "create_folium_heatmap(df[df.EnergyLabelClassification == \"C\"],\"Wgs84Latitude\",\"Wgs84Longitude\",3,5)"
   ]
  },
  {
   "cell_type": "code",
   "execution_count": null,
   "metadata": {},
   "outputs": [],
   "source": [
    "create_folium_heatmap(df[df.EnergyLabelClassification == \"D\"],\"Wgs84Latitude\",\"Wgs84Longitude\",3,5)"
   ]
  },
  {
   "cell_type": "code",
   "execution_count": null,
   "metadata": {},
   "outputs": [],
   "source": [
    "create_folium_heatmap(df[df.EnergyLabelClassification == \"E\"],\"Wgs84Latitude\",\"Wgs84Longitude\",3,5)"
   ]
  },
  {
   "cell_type": "code",
   "execution_count": null,
   "metadata": {},
   "outputs": [],
   "source": [
    "create_folium_heatmap(df[df.EnergyLabelClassification == \"F\"],\"Wgs84Latitude\",\"Wgs84Longitude\",3,5)"
   ]
  },
  {
   "cell_type": "code",
   "execution_count": null,
   "metadata": {},
   "outputs": [],
   "source": [
    "create_folium_heatmap(df[df.EnergyLabelClassification == \"G\"],\"Wgs84Latitude\",\"Wgs84Longitude\",3,5)"
   ]
  },
  {
   "cell_type": "markdown",
   "metadata": {},
   "source": [
    "# Dist of energylabels for new buildings"
   ]
  },
  {
   "cell_type": "code",
   "execution_count": null,
   "metadata": {},
   "outputs": [],
   "source": [
    "list(df.columns)"
   ]
  },
  {
   "cell_type": "code",
   "execution_count": null,
   "metadata": {},
   "outputs": [],
   "source": [
    "df.iloc[11006].dateOfRenovation_dateOfEvent_anyPoint"
   ]
  },
  {
   "cell_type": "code",
   "execution_count": null,
   "metadata": {},
   "outputs": [],
   "source": [
    "df[df.YearOfConstruction ==\"1000\"][[\"Wgs84Latitude\",\"Wgs84Longitude\"]]"
   ]
  },
  {
   "cell_type": "markdown",
   "metadata": {},
   "source": [
    "# Heatmaps roof types"
   ]
  },
  {
   "cell_type": "code",
   "execution_count": null,
   "metadata": {},
   "outputs": [],
   "source": [
    "df.materialOfRoof.unique()"
   ]
  },
  {
   "cell_type": "code",
   "execution_count": null,
   "metadata": {},
   "outputs": [],
   "source": [
    "create_folium_heatmap(df[df.materialOfRoof == \"clay Tile\"],\"Wgs84Latitude\",\"Wgs84Longitude\",3,5)"
   ]
  },
  {
   "cell_type": "code",
   "execution_count": null,
   "metadata": {},
   "outputs": [],
   "source": [
    "create_folium_heatmap(df[df.materialOfRoof == \"concrete Tile\"],\"Wgs84Latitude\",\"Wgs84Longitude\",3,5)"
   ]
  },
  {
   "cell_type": "code",
   "execution_count": null,
   "metadata": {},
   "outputs": [],
   "source": [
    "create_folium_heatmap(df[df.materialOfRoof == \"vegetated Green Roof\"],\"Wgs84Latitude\",\"Wgs84Longitude\",3,5)"
   ]
  },
  {
   "cell_type": "code",
   "execution_count": null,
   "metadata": {},
   "outputs": [],
   "source": [
    "years=df.dateOfRenovation_dateOfEvent_anyPoint.unique()\n",
    "map_data=[[[row['Wgs84Latitude'],row['Wgs84Longitude']] for index, row in df[df.dateOfRenovation_dateOfEvent_anyPoint==i].iterrows()] for i in years]"
   ]
  },
  {
   "cell_type": "markdown",
   "metadata": {},
   "source": [
    "# Heatmap Time"
   ]
  },
  {
   "cell_type": "code",
   "execution_count": null,
   "metadata": {},
   "outputs": [],
   "source": [
    "create_folium_heatmap_time(\"YearOfConstruction\",'Wgs84Latitude','Wgs84Longitude',df)"
   ]
  },
  {
   "cell_type": "code",
   "execution_count": null,
   "metadata": {},
   "outputs": [],
   "source": [
    "df.dateOfRenovation_dateOfEvent_anyPoint[0]"
   ]
  },
  {
   "cell_type": "code",
   "execution_count": null,
   "metadata": {},
   "outputs": [],
   "source": [
    "df.Kvadratmeterpris.unique()"
   ]
  },
  {
   "cell_type": "code",
   "execution_count": null,
   "metadata": {},
   "outputs": [],
   "source": [
    "import pandas_alive"
   ]
  },
  {
   "cell_type": "code",
   "execution_count": null,
   "metadata": {},
   "outputs": [],
   "source": [
    "db=pd.crosstab(index=df['YearOfConstruction'], columns=df['EnergyLabelClassification']).cumsum()"
   ]
  },
  {
   "cell_type": "code",
   "execution_count": null,
   "metadata": {},
   "outputs": [],
   "source": [
    "db2=pd.crosstab(index=df.ValidFrom.dt.to_period('M'), columns=df['EnergyLabelClassification']).cumsum()"
   ]
  },
  {
   "cell_type": "code",
   "execution_count": null,
   "metadata": {},
   "outputs": [],
   "source": [
    "db2=db2.reset_index()"
   ]
  },
  {
   "cell_type": "code",
   "execution_count": null,
   "metadata": {},
   "outputs": [],
   "source": [
    "db.index"
   ]
  },
  {
   "cell_type": "code",
   "execution_count": null,
   "metadata": {},
   "outputs": [],
   "source": [
    "db2.fillna(0).plot_animated(filename='example-line-chart2.gif',kind='line',period_label={'x':0.25,'y':0.9})"
   ]
  },
  {
   "cell_type": "code",
   "execution_count": null,
   "metadata": {},
   "outputs": [],
   "source": [
    "db.plot_animated(filename='example-line-chart.gif',kind='line',period_label={'x':0.25,'y':0.9})"
   ]
  },
  {
   "cell_type": "markdown",
   "metadata": {},
   "source": [
    "# Predictions"
   ]
  },
  {
   "cell_type": "code",
   "execution_count": null,
   "metadata": {},
   "outputs": [],
   "source": [
    "import matplotlib.pyplot as plt\n",
    "import seaborn as sns\n",
    "from sklearn.metrics import *"
   ]
  },
  {
   "cell_type": "code",
   "execution_count": null,
   "metadata": {},
   "outputs": [],
   "source": [
    "def metrics(Y_test,y_pred,x_val,model):\n",
    "    y_pred=y_pred\n",
    "    x_val=x_val\n",
    "    model=model\n",
    "    auc=round(accuracy_score(Y_test,y_pred),4)\n",
    "    f_score=round(f1_score(Y_test, y_pred),4)\n",
    "    P_score=round(precision_score(Y_test,y_pred),4)\n",
    "    recall=round(recall_score(Y_test, y_pred),4)\n",
    "    \n",
    "    ns_probs = [0 for _ in range(len(Y_test))]\n",
    "    lr_probs = model.predict_proba(x_val)\n",
    "    lr_probs = lr_probs[:, 1]\n",
    "    # calculate scores\n",
    "    ns_auc = roc_auc_score(Y_test, ns_probs)\n",
    "    lr_auc = round(roc_auc_score(Y_test, lr_probs),4)\n",
    "    return [auc,f_score,P_score,recall,lr_auc]\n",
    "\n",
    "def plot_feature_importance(importance,names,model_type):\n",
    "\n",
    "    #Create arrays from feature importance and feature names\n",
    "    feature_importance = importance\n",
    "    feature_names = np.array(names)\n",
    "\n",
    "    #Create a DataFrame using a Dictionary\n",
    "    data={'feature_names':feature_names,'feature_importance':feature_importance}\n",
    "    fi_df = pd.DataFrame(data)\n",
    "\n",
    "    #Sort the DataFrame in order decreasing feature importance\n",
    "    fi_df.sort_values(by=['feature_importance'], ascending=False,inplace=True)\n",
    "    fi_df = fi_df[fi_df.feature_importance > 0.01]\n",
    "    \n",
    "\n",
    "    #Define size of bar plot\n",
    "    plt.figure(figsize=(8,6))\n",
    "    plt.tight_layout()\n",
    "    plt.yticks(fontsize=7)\n",
    "    #Plot Searborn bar chart\n",
    "    ax=sns.barplot(y='feature_names',x='feature_importance',data=fi_df,palette=\"rocket\")\n",
    "    ax.set_xlabel('feature_importance')\n",
    "    #plt.xticks(rotation = 90)\n",
    "    \n",
    "    #Add chart labels\n",
    "    plt.title(model_type + ' FEATURE IMPORTANCE')\n",
    "    plt.xlabel('FEATURE IMPORTANCE > 0.01')\n",
    "    plt.ylabel('FEATURE NAMES')\n",
    "\n",
    "\n",
    "def evaluation_time(y_test,y_pred,model,x_val):\n",
    "    plt.style.use('ggplot')\n",
    "    cm = confusion_matrix(y_test, (y_pred))\n",
    "    ax= plt.subplot()\n",
    "    sns.heatmap(cm, annot=True, ax = ax,fmt='g',cmap='rocket'); #annot=True to annotate cells\n",
    "\n",
    "    # labels, title and ticks\n",
    "    ax.set_xlabel('Predicted Winner');ax.set_ylabel('Actual Winner'); \n",
    "    ax.set_title('Confusion Matrix'); \n",
    "    ax.xaxis.set_ticklabels(['Server', 'Returner']); ax.yaxis.set_ticklabels(['Server', 'Returner'], rotation=360);\n",
    "    plt.show()\n",
    "\n",
    "    f_score=f1_score(y_test, y_pred, average=None)\n",
    "    P_score=precision_score(y_test,y_pred,average=None)\n",
    "    recall=recall_score(y_test, y_pred, average=None)\n",
    "\n",
    "\n",
    "    ns_probs = [0 for _ in range(len(y_test))]\n",
    "    lr_probs = model.predict_proba(x_val)\n",
    "    lr_probs = lr_probs[:, 1]\n",
    "    # calculate scores\n",
    "    ns_auc = roc_auc_score(y_test, ns_probs)\n",
    "    lr_auc = roc_auc_score(y_test, lr_probs)\n",
    "    # summarize scores\n",
    "    print(f\"Test set accuracy score {(np.round(accuracy_score(y_pred,y_test),3)*100)}%\")\n",
    "    print(f\"F1 score {np.round(f_score,3)}\")\n",
    "    print(f\"Recall score {np.round(recall,3)}\")\n",
    "    print(f\"Precision score {np.round(P_score,3)}\")\n",
    "    print('Model: ROC AUC=%.3f' % (lr_auc))\n",
    "    # calculate roc curves\n",
    "    ns_fpr, ns_tpr, _ = roc_curve(y_test, ns_probs)\n",
    "    lr_fpr, lr_tpr, _ = roc_curve(y_test, lr_probs)\n",
    "    plt.plot(ns_fpr, ns_tpr, linestyle='--', label='Base')\n",
    "    plt.plot(lr_fpr, lr_tpr, marker='.', label='XGBoost')\n",
    "    plt.xlabel('False Positive Rate')\n",
    "    plt.ylabel('True Positive Rate')\n",
    "    plt.legend()\n",
    "    plt.show()\n",
    "\n",
    "def evaluation(y_test,y_pred,model_xg,x_val):\n",
    "    plt.style.use('ggplot')\n",
    "    cm = confusion_matrix(y_test, (y_pred))\n",
    "    ax= plt.subplot()\n",
    "    sns.heatmap(cm, annot=True, ax = ax,fmt='g',cmap='rocket'); #annot=True to annotate cells\n",
    "\n",
    "    ax.set_xlabel('Predcited Winner');ax.set_ylabel('Actual Winner'); \n",
    "    ax.set_title('Confusion Matrix'); \n",
    "    ax.xaxis.set_ticklabels(['Server', 'Returner']); ax.yaxis.set_ticklabels(['Server', 'Returner'], rotation=360);\n",
    "    plt.show()\n",
    "\n",
    "    f_score=f1_score(y_test, y_pred, average=None)\n",
    "    P_score=precision_score(y_test,y,average=None)\n",
    "    recall=recall_score(y_test, y_pred, average=None)\n",
    "\n",
    "\n",
    "    ns_probs = [0 for _ in range(len(y_test))]\n",
    "    lr_probs = model_xg.predict_proba(x_val)\n",
    "    lr_probs = lr_probs[:, 1]\n",
    "    # calculate scores\n",
    "    ns_auc = roc_auc_score(y_test, ns_probs)\n",
    "    lr_auc = roc_auc_score(y_test, lr_probs)\n",
    "    # summarize scores\n",
    "    print(f\"Test set accuracy score {np.round(val_scoreXG*100,3)}%\")\n",
    "    print(f\"F1 score {np.round(f_score,3)}\")\n",
    "    print(f\"Recall score {np.round(recall,3)}\")\n",
    "    print(f\"Precision score {np.round(P_score,3)}\")\n",
    "    print('Xgboost: ROC AUC=%.3f' % (lr_auc))\n",
    "    # calculate roc curves\n",
    "    ns_fpr, ns_tpr, _ = roc_curve(y_test, ns_probs)\n",
    "    lr_fpr, lr_tpr, _ = roc_curve(y_test, lr_probs)\n",
    "    plt.plot(ns_fpr, ns_tpr, linestyle='--', label='Base')\n",
    "    plt.plot(lr_fpr, lr_tpr, marker='.', label='XGBoost')\n",
    "    plt.xlabel('False Positive Rate')\n",
    "    plt.ylabel('True Positive Rate')\n",
    "    plt.legend()\n",
    "    plt.show()\n",
    "    \n",
    "    results = model_xg.evals_result()\n",
    "    epochs = len(results['validation_0']['error'])\n",
    "    x_axis = range(0, epochs)\n",
    "    # plot log loss\n",
    "    fig, ax = plt.subplots()\n",
    "    ax.plot(x_axis, results['validation_0']['logloss'], label='Train')\n",
    "    ax.plot(x_axis, results['validation_1']['logloss'], label='Test')\n",
    "    ax.legend()\n",
    "    plt.ylabel('Log Loss')\n",
    "    plt.title('XGBoost Log Loss')\n",
    "    plt.show()\n",
    "    # plot classification error\n",
    "    fig, ax = plt.subplots()\n",
    "    ax.plot(x_axis, results['validation_0']['error'], label='Train')\n",
    "    ax.plot(x_axis, results['validation_1']['error'], label='Test')\n",
    "    ax.legend()\n",
    "    plt.ylabel('Classification Error')\n",
    "    plt.title('XGBoost Classification Error')\n",
    "    plt.show()\n",
    "    return\n"
   ]
  },
  {
   "cell_type": "code",
   "execution_count": null,
   "metadata": {},
   "outputs": [],
   "source": [
    "pred_df = df.drop_duplicates(subset=['addressRepresentation'])\n",
    "pred_df.head()"
   ]
  },
  {
   "cell_type": "code",
   "execution_count": null,
   "metadata": {},
   "outputs": [],
   "source": [
    "X,y=[\n",
    "              'connectionToSewage',\n",
    "              'connectionToWater',\n",
    "              'currentUse',\n",
    "              'dateOfConstruction_dateOfEvent_anyPoint',\n",
    "              'dateOfRenovation_dateOfEvent_anyPoint',\n",
    "              'HeatSupply',\n",
    "              'materialOfRoof',\n",
    "              'materialOfWall',\n",
    "              'YearOfConstruction',\n",
    "              ],['EnergyLabelClassification']"
   ]
  },
  {
   "cell_type": "code",
   "execution_count": null,
   "metadata": {},
   "outputs": [],
   "source": [
    "from sklearn.preprocessing import MinMaxScaler, StandardScaler\n",
    "from sklearn.model_selection import train_test_split\n",
    "from xgboost import XGBClassifier\n",
    "y=df[y].values\n",
    "x=df[X]\n",
    "x=pd.get_dummies(x)\n",
    "labels=list(x.columns)\n",
    "x=x.values\n",
    "scaler = StandardScaler()\n",
    "x=scaler.fit_transform(x)"
   ]
  },
  {
   "cell_type": "code",
   "execution_count": null,
   "metadata": {},
   "outputs": [],
   "source": [
    "X_train, X_test, y_train, y_test = train_test_split(x, y, test_size=0.33, random_state=42)\n",
    "\n",
    "model_xg = XGBClassifier(objective ='binary:logistic')\n",
    "model_xg.fit(X_train, y_train);\n",
    "y_pred = model_xg.predict(X_test);"
   ]
  },
  {
   "cell_type": "code",
   "execution_count": null,
   "metadata": {},
   "outputs": [],
   "source": [
    "cm = confusion_matrix(y_test, y_pred)\n",
    "cm_df = pd.DataFrame(cm,\n",
    "                     index = list(df.EnergyLabelClassification.unique()), \n",
    "                     columns = list(df.EnergyLabelClassification.unique()))"
   ]
  },
  {
   "cell_type": "code",
   "execution_count": null,
   "metadata": {},
   "outputs": [],
   "source": [
    "#Plotting the confusion matrix\n",
    "plt.figure(figsize=(20,10))\n",
    "sns.heatmap(cm_df, annot=True)\n",
    "plt.title('Confusion Matrix')\n",
    "plt.ylabel('Actal Values')\n",
    "plt.xlabel('Predicted Values')\n",
    "plt.show()"
   ]
  },
  {
   "cell_type": "code",
   "execution_count": null,
   "metadata": {},
   "outputs": [],
   "source": [
    "scoreXG = accuracy_score(y_pred, y_test)\n",
    "#evaluation(y_test,y_pred,model_xg,X_test)\n",
    "plot_feature_importance(model_xg.feature_importances_,labels,\"XG Second Serve \")"
   ]
  },
  {
   "cell_type": "code",
   "execution_count": null,
   "metadata": {},
   "outputs": [],
   "source": []
  }
 ],
 "metadata": {
  "interpreter": {
   "hash": "31f2aee4e71d21fbe5cf8b01ff0e069b9275f58929596ceb00d14d90e3e16cd6"
  },
  "kernelspec": {
   "display_name": "Python 3.8.9 64-bit",
   "language": "python",
   "name": "python3"
  },
  "language_info": {
   "codemirror_mode": {
    "name": "ipython",
    "version": 3
   },
   "file_extension": ".py",
   "mimetype": "text/x-python",
   "name": "python",
   "nbconvert_exporter": "python",
   "pygments_lexer": "ipython3",
   "version": "3.8.8"
  },
  "orig_nbformat": 4
 },
 "nbformat": 4,
 "nbformat_minor": 2
}
